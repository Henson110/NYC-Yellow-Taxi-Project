{
 "cells": [
  {
   "cell_type": "markdown",
   "metadata": {},
   "source": [
    "# Data Project for NYC Taxi Dataset"
   ]
  },
  {
   "cell_type": "markdown",
   "metadata": {},
   "source": [
    "Author: TianlinShan\n",
    "\n",
    "E-mail: ts4271@nyu.edu\n",
    "\n",
    "Date: May 21, 2022\n",
    "\n",
    "Course: Machine Learning and Algorithms for Computational Social Science, Section 001"
   ]
  },
  {
   "cell_type": "markdown",
   "metadata": {},
   "source": [
    "## Introduction"
   ]
  },
  {
   "cell_type": "markdown",
   "metadata": {},
   "source": [
    "Tipping behavior of people is interesting. This project is to use public data of NYC taxi to analyze the factors that <br>may impact on tip amount. The factors might be trip duration, trip distance, passengers’ numbers, different <br>boroughs, different hours of a day, different days of a week, weather conditions and so on. How can these impact on tipping a driver? <br>This project will use analytical tools to specify it and visualize it to tell people some interesting trends. <br>Also, this project will use multiple machine learning model to do prediction and classification of tipping."
   ]
  },
  {
   "cell_type": "code",
   "execution_count": 223,
   "metadata": {},
   "outputs": [],
   "source": [
    "# Import libraries\n",
    "import numpy as np\n",
    "import pandas as pd\n",
    "import time  \n",
    "import pickle as pickle  \n",
    "import pandas as pd\n",
    "import matplotlib.pyplot as plt\n",
    "import seaborn as sns\n",
    "from scipy import stats \n",
    "from sklearn.linear_model import LinearRegression\n",
    "from sklearn.metrics import mean_squared_error\n",
    "from sklearn.model_selection import train_test_split\n",
    "from sklearn.model_selection import cross_val_score\n",
    "from sklearn.linear_model import Lasso\n",
    "from sklearn import metrics \n",
    "%matplotlib inline"
   ]
  },
  {
   "cell_type": "markdown",
   "metadata": {},
   "source": [
    "Taxi Data Source: https://www1.nyc.gov/site/tlc/about/tlc-trip-record-data.page\n",
    "<br>The data was published by the NYC Taxi and Limousine Commission (TLC) and can be\n",
    "downloaded from the Data Sourse that is shown above.\n",
    "<br>The data I use is NYC Yellow taxi dataset of February, 2022.\n",
    "\n",
    "Taxi Data Dictionary: https://www1.nyc.gov/assets/tlc/downloads/pdf/data_dictionary_trip_records_green.pdf\n",
    "<br>Use the Data Dictionary, then you can realize how each feature works in the dataset.\n",
    "<br>Also, I have built a feature definition next, you can scroll down to the middle to see it.\n",
    "\n",
    "Weather Data Source: https://www.visualcrossing.com/weather/weather-data-services\n",
    "\n",
    "Taxi Zone Data Source: https://drive.google.com/drive/folders/1n3ZQu7KfMLyj6H7eIGw3vURnTx02G5Hi?usp=sharing"
   ]
  },
  {
   "cell_type": "markdown",
   "metadata": {},
   "source": [
    "## Load Data"
   ]
  },
  {
   "cell_type": "code",
   "execution_count": 170,
   "metadata": {},
   "outputs": [],
   "source": [
    "df1 = pd.read_csv('yellow_tripdata_2022-02.csv', low_memory=False)"
   ]
  },
  {
   "cell_type": "code",
   "execution_count": 172,
   "metadata": {},
   "outputs": [],
   "source": [
    "df2 = pd.read_csv('NYC_Feb_weather.csv')"
   ]
  },
  {
   "cell_type": "code",
   "execution_count": 175,
   "metadata": {},
   "outputs": [],
   "source": [
    "df3 = pd.read_csv('taxi_zone_lookup.csv')"
   ]
  },
  {
   "cell_type": "code",
   "execution_count": 192,
   "metadata": {},
   "outputs": [],
   "source": [
    "df1['tpep_pickup_datetime']=pd.to_datetime(df1['tpep_pickup_datetime'])\n",
    "df1['tpep_dropoff_datetime']=pd.to_datetime(df1['tpep_dropoff_datetime'])\n",
    "df1['date_hour'] = df1['tpep_pickup_datetime'].dt.hour\n",
    "df1['date'] = df1['tpep_pickup_datetime'].dt.date\n",
    "df2['datetime'] = pd.to_datetime(df2['datetime'])\n",
    "df2['date_hour'] = df2['datetime'].dt.hour\n",
    "df2['date'] = df2['datetime'].dt.date\n",
    "df_merge = pd.merge(df1,df2,left_on=['date','date_hour'], right_on=['date','date_hour'])\n",
    "df = pd.merge(df_merge, df3, left_on='PULocationID', right_on='LocationID')"
   ]
  },
  {
   "cell_type": "code",
   "execution_count": 193,
   "metadata": {},
   "outputs": [
    {
     "data": {
      "text/html": [
       "<div>\n",
       "<style scoped>\n",
       "    .dataframe tbody tr th:only-of-type {\n",
       "        vertical-align: middle;\n",
       "    }\n",
       "\n",
       "    .dataframe tbody tr th {\n",
       "        vertical-align: top;\n",
       "    }\n",
       "\n",
       "    .dataframe thead th {\n",
       "        text-align: right;\n",
       "    }\n",
       "</style>\n",
       "<table border=\"1\" class=\"dataframe\">\n",
       "  <thead>\n",
       "    <tr style=\"text-align: right;\">\n",
       "      <th></th>\n",
       "      <th>VendorID</th>\n",
       "      <th>tpep_pickup_datetime</th>\n",
       "      <th>tpep_dropoff_datetime</th>\n",
       "      <th>passenger_count</th>\n",
       "      <th>trip_distance</th>\n",
       "      <th>RatecodeID</th>\n",
       "      <th>store_and_fwd_flag</th>\n",
       "      <th>PULocationID</th>\n",
       "      <th>DOLocationID</th>\n",
       "      <th>payment_type</th>\n",
       "      <th>...</th>\n",
       "      <th>date_hour</th>\n",
       "      <th>date</th>\n",
       "      <th>datetime</th>\n",
       "      <th>temp</th>\n",
       "      <th>conditions</th>\n",
       "      <th>icon</th>\n",
       "      <th>LocationID</th>\n",
       "      <th>Borough</th>\n",
       "      <th>Zone</th>\n",
       "      <th>service_zone</th>\n",
       "    </tr>\n",
       "  </thead>\n",
       "  <tbody>\n",
       "    <tr>\n",
       "      <th>0</th>\n",
       "      <td>1</td>\n",
       "      <td>2022-02-01 00:06:58</td>\n",
       "      <td>2022-02-01 00:19:24</td>\n",
       "      <td>1.0</td>\n",
       "      <td>5.40</td>\n",
       "      <td>1.0</td>\n",
       "      <td>N</td>\n",
       "      <td>138</td>\n",
       "      <td>252</td>\n",
       "      <td>1</td>\n",
       "      <td>...</td>\n",
       "      <td>0</td>\n",
       "      <td>2022-02-01</td>\n",
       "      <td>2022-02-01</td>\n",
       "      <td>25.0</td>\n",
       "      <td>Clear</td>\n",
       "      <td>clear-night</td>\n",
       "      <td>138</td>\n",
       "      <td>Queens</td>\n",
       "      <td>LaGuardia Airport</td>\n",
       "      <td>Airports</td>\n",
       "    </tr>\n",
       "    <tr>\n",
       "      <th>1</th>\n",
       "      <td>1</td>\n",
       "      <td>2022-02-01 00:38:22</td>\n",
       "      <td>2022-02-01 00:55:55</td>\n",
       "      <td>1.0</td>\n",
       "      <td>6.40</td>\n",
       "      <td>1.0</td>\n",
       "      <td>N</td>\n",
       "      <td>138</td>\n",
       "      <td>41</td>\n",
       "      <td>2</td>\n",
       "      <td>...</td>\n",
       "      <td>0</td>\n",
       "      <td>2022-02-01</td>\n",
       "      <td>2022-02-01</td>\n",
       "      <td>25.0</td>\n",
       "      <td>Clear</td>\n",
       "      <td>clear-night</td>\n",
       "      <td>138</td>\n",
       "      <td>Queens</td>\n",
       "      <td>LaGuardia Airport</td>\n",
       "      <td>Airports</td>\n",
       "    </tr>\n",
       "    <tr>\n",
       "      <th>2</th>\n",
       "      <td>1</td>\n",
       "      <td>2022-02-01 00:03:20</td>\n",
       "      <td>2022-02-01 00:26:59</td>\n",
       "      <td>1.0</td>\n",
       "      <td>12.50</td>\n",
       "      <td>1.0</td>\n",
       "      <td>N</td>\n",
       "      <td>138</td>\n",
       "      <td>200</td>\n",
       "      <td>2</td>\n",
       "      <td>...</td>\n",
       "      <td>0</td>\n",
       "      <td>2022-02-01</td>\n",
       "      <td>2022-02-01</td>\n",
       "      <td>25.0</td>\n",
       "      <td>Clear</td>\n",
       "      <td>clear-night</td>\n",
       "      <td>138</td>\n",
       "      <td>Queens</td>\n",
       "      <td>LaGuardia Airport</td>\n",
       "      <td>Airports</td>\n",
       "    </tr>\n",
       "    <tr>\n",
       "      <th>3</th>\n",
       "      <td>2</td>\n",
       "      <td>2022-02-01 00:06:48</td>\n",
       "      <td>2022-02-01 00:33:07</td>\n",
       "      <td>1.0</td>\n",
       "      <td>12.16</td>\n",
       "      <td>1.0</td>\n",
       "      <td>N</td>\n",
       "      <td>138</td>\n",
       "      <td>125</td>\n",
       "      <td>1</td>\n",
       "      <td>...</td>\n",
       "      <td>0</td>\n",
       "      <td>2022-02-01</td>\n",
       "      <td>2022-02-01</td>\n",
       "      <td>25.0</td>\n",
       "      <td>Clear</td>\n",
       "      <td>clear-night</td>\n",
       "      <td>138</td>\n",
       "      <td>Queens</td>\n",
       "      <td>LaGuardia Airport</td>\n",
       "      <td>Airports</td>\n",
       "    </tr>\n",
       "    <tr>\n",
       "      <th>4</th>\n",
       "      <td>2</td>\n",
       "      <td>2022-02-01 00:23:16</td>\n",
       "      <td>2022-02-01 00:40:53</td>\n",
       "      <td>1.0</td>\n",
       "      <td>11.77</td>\n",
       "      <td>1.0</td>\n",
       "      <td>N</td>\n",
       "      <td>138</td>\n",
       "      <td>132</td>\n",
       "      <td>1</td>\n",
       "      <td>...</td>\n",
       "      <td>0</td>\n",
       "      <td>2022-02-01</td>\n",
       "      <td>2022-02-01</td>\n",
       "      <td>25.0</td>\n",
       "      <td>Clear</td>\n",
       "      <td>clear-night</td>\n",
       "      <td>138</td>\n",
       "      <td>Queens</td>\n",
       "      <td>LaGuardia Airport</td>\n",
       "      <td>Airports</td>\n",
       "    </tr>\n",
       "  </tbody>\n",
       "</table>\n",
       "<p>5 rows × 28 columns</p>\n",
       "</div>"
      ],
      "text/plain": [
       "   VendorID tpep_pickup_datetime tpep_dropoff_datetime  passenger_count  \\\n",
       "0         1  2022-02-01 00:06:58   2022-02-01 00:19:24              1.0   \n",
       "1         1  2022-02-01 00:38:22   2022-02-01 00:55:55              1.0   \n",
       "2         1  2022-02-01 00:03:20   2022-02-01 00:26:59              1.0   \n",
       "3         2  2022-02-01 00:06:48   2022-02-01 00:33:07              1.0   \n",
       "4         2  2022-02-01 00:23:16   2022-02-01 00:40:53              1.0   \n",
       "\n",
       "   trip_distance  RatecodeID store_and_fwd_flag  PULocationID  DOLocationID  \\\n",
       "0           5.40         1.0                  N           138           252   \n",
       "1           6.40         1.0                  N           138            41   \n",
       "2          12.50         1.0                  N           138           200   \n",
       "3          12.16         1.0                  N           138           125   \n",
       "4          11.77         1.0                  N           138           132   \n",
       "\n",
       "   payment_type  ...  date_hour        date   datetime  temp  conditions  \\\n",
       "0             1  ...          0  2022-02-01 2022-02-01  25.0       Clear   \n",
       "1             2  ...          0  2022-02-01 2022-02-01  25.0       Clear   \n",
       "2             2  ...          0  2022-02-01 2022-02-01  25.0       Clear   \n",
       "3             1  ...          0  2022-02-01 2022-02-01  25.0       Clear   \n",
       "4             1  ...          0  2022-02-01 2022-02-01  25.0       Clear   \n",
       "\n",
       "          icon  LocationID  Borough               Zone service_zone  \n",
       "0  clear-night         138   Queens  LaGuardia Airport     Airports  \n",
       "1  clear-night         138   Queens  LaGuardia Airport     Airports  \n",
       "2  clear-night         138   Queens  LaGuardia Airport     Airports  \n",
       "3  clear-night         138   Queens  LaGuardia Airport     Airports  \n",
       "4  clear-night         138   Queens  LaGuardia Airport     Airports  \n",
       "\n",
       "[5 rows x 28 columns]"
      ]
     },
     "execution_count": 193,
     "metadata": {},
     "output_type": "execute_result"
    }
   ],
   "source": [
    "df.head()"
   ]
  },
  {
   "cell_type": "code",
   "execution_count": 180,
   "metadata": {},
   "outputs": [
    {
     "data": {
      "text/html": [
       "<div>\n",
       "<style scoped>\n",
       "    .dataframe tbody tr th:only-of-type {\n",
       "        vertical-align: middle;\n",
       "    }\n",
       "\n",
       "    .dataframe tbody tr th {\n",
       "        vertical-align: top;\n",
       "    }\n",
       "\n",
       "    .dataframe thead th {\n",
       "        text-align: right;\n",
       "    }\n",
       "</style>\n",
       "<table border=\"1\" class=\"dataframe\">\n",
       "  <thead>\n",
       "    <tr style=\"text-align: right;\">\n",
       "      <th></th>\n",
       "      <th>VendorID</th>\n",
       "      <th>passenger_count</th>\n",
       "      <th>trip_distance</th>\n",
       "      <th>RatecodeID</th>\n",
       "      <th>PULocationID</th>\n",
       "      <th>DOLocationID</th>\n",
       "      <th>payment_type</th>\n",
       "      <th>fare_amount</th>\n",
       "      <th>extra</th>\n",
       "      <th>mta_tax</th>\n",
       "      <th>tip_amount</th>\n",
       "      <th>tolls_amount</th>\n",
       "      <th>improvement_surcharge</th>\n",
       "      <th>total_amount</th>\n",
       "      <th>congestion_surcharge</th>\n",
       "      <th>date_hour</th>\n",
       "      <th>temp</th>\n",
       "      <th>LocationID</th>\n",
       "    </tr>\n",
       "  </thead>\n",
       "  <tbody>\n",
       "    <tr>\n",
       "      <th>count</th>\n",
       "      <td>2979367.00</td>\n",
       "      <td>2877629.00</td>\n",
       "      <td>2979367.00</td>\n",
       "      <td>2877629.00</td>\n",
       "      <td>2979367.00</td>\n",
       "      <td>2979367.00</td>\n",
       "      <td>2979367.00</td>\n",
       "      <td>2979367.00</td>\n",
       "      <td>2979367.00</td>\n",
       "      <td>2979367.00</td>\n",
       "      <td>2979367.00</td>\n",
       "      <td>2979367.00</td>\n",
       "      <td>2979367.00</td>\n",
       "      <td>2979367.00</td>\n",
       "      <td>2877629.00</td>\n",
       "      <td>2979367.00</td>\n",
       "      <td>2979367.00</td>\n",
       "      <td>2979367.00</td>\n",
       "    </tr>\n",
       "    <tr>\n",
       "      <th>mean</th>\n",
       "      <td>1.71</td>\n",
       "      <td>1.39</td>\n",
       "      <td>5.85</td>\n",
       "      <td>1.42</td>\n",
       "      <td>165.53</td>\n",
       "      <td>163.43</td>\n",
       "      <td>1.17</td>\n",
       "      <td>13.13</td>\n",
       "      <td>1.02</td>\n",
       "      <td>0.49</td>\n",
       "      <td>2.50</td>\n",
       "      <td>0.38</td>\n",
       "      <td>0.30</td>\n",
       "      <td>19.50</td>\n",
       "      <td>2.31</td>\n",
       "      <td>14.21</td>\n",
       "      <td>38.29</td>\n",
       "      <td>165.53</td>\n",
       "    </tr>\n",
       "    <tr>\n",
       "      <th>std</th>\n",
       "      <td>0.50</td>\n",
       "      <td>0.98</td>\n",
       "      <td>642.54</td>\n",
       "      <td>6.02</td>\n",
       "      <td>65.61</td>\n",
       "      <td>70.42</td>\n",
       "      <td>0.50</td>\n",
       "      <td>12.05</td>\n",
       "      <td>1.23</td>\n",
       "      <td>0.08</td>\n",
       "      <td>2.79</td>\n",
       "      <td>1.67</td>\n",
       "      <td>0.04</td>\n",
       "      <td>14.95</td>\n",
       "      <td>0.71</td>\n",
       "      <td>5.70</td>\n",
       "      <td>10.97</td>\n",
       "      <td>65.61</td>\n",
       "    </tr>\n",
       "    <tr>\n",
       "      <th>min</th>\n",
       "      <td>1.00</td>\n",
       "      <td>0.00</td>\n",
       "      <td>0.00</td>\n",
       "      <td>1.00</td>\n",
       "      <td>1.00</td>\n",
       "      <td>1.00</td>\n",
       "      <td>0.00</td>\n",
       "      <td>-600.00</td>\n",
       "      <td>-4.50</td>\n",
       "      <td>-0.50</td>\n",
       "      <td>-188.00</td>\n",
       "      <td>-29.05</td>\n",
       "      <td>-0.30</td>\n",
       "      <td>-600.30</td>\n",
       "      <td>-2.50</td>\n",
       "      <td>0.00</td>\n",
       "      <td>16.50</td>\n",
       "      <td>1.00</td>\n",
       "    </tr>\n",
       "    <tr>\n",
       "      <th>25%</th>\n",
       "      <td>1.00</td>\n",
       "      <td>1.00</td>\n",
       "      <td>1.08</td>\n",
       "      <td>1.00</td>\n",
       "      <td>132.00</td>\n",
       "      <td>113.00</td>\n",
       "      <td>1.00</td>\n",
       "      <td>6.50</td>\n",
       "      <td>0.00</td>\n",
       "      <td>0.50</td>\n",
       "      <td>1.00</td>\n",
       "      <td>0.00</td>\n",
       "      <td>0.30</td>\n",
       "      <td>11.76</td>\n",
       "      <td>2.50</td>\n",
       "      <td>11.00</td>\n",
       "      <td>30.30</td>\n",
       "      <td>132.00</td>\n",
       "    </tr>\n",
       "    <tr>\n",
       "      <th>50%</th>\n",
       "      <td>2.00</td>\n",
       "      <td>1.00</td>\n",
       "      <td>1.79</td>\n",
       "      <td>1.00</td>\n",
       "      <td>162.00</td>\n",
       "      <td>162.00</td>\n",
       "      <td>1.00</td>\n",
       "      <td>9.50</td>\n",
       "      <td>0.50</td>\n",
       "      <td>0.50</td>\n",
       "      <td>2.06</td>\n",
       "      <td>0.00</td>\n",
       "      <td>0.30</td>\n",
       "      <td>15.30</td>\n",
       "      <td>2.50</td>\n",
       "      <td>15.00</td>\n",
       "      <td>36.20</td>\n",
       "      <td>162.00</td>\n",
       "    </tr>\n",
       "    <tr>\n",
       "      <th>75%</th>\n",
       "      <td>2.00</td>\n",
       "      <td>1.00</td>\n",
       "      <td>3.20</td>\n",
       "      <td>1.00</td>\n",
       "      <td>234.00</td>\n",
       "      <td>234.00</td>\n",
       "      <td>1.00</td>\n",
       "      <td>14.50</td>\n",
       "      <td>2.50</td>\n",
       "      <td>0.50</td>\n",
       "      <td>3.15</td>\n",
       "      <td>0.00</td>\n",
       "      <td>0.30</td>\n",
       "      <td>20.80</td>\n",
       "      <td>2.50</td>\n",
       "      <td>19.00</td>\n",
       "      <td>45.20</td>\n",
       "      <td>234.00</td>\n",
       "    </tr>\n",
       "    <tr>\n",
       "      <th>max</th>\n",
       "      <td>6.00</td>\n",
       "      <td>9.00</td>\n",
       "      <td>348798.53</td>\n",
       "      <td>99.00</td>\n",
       "      <td>265.00</td>\n",
       "      <td>265.00</td>\n",
       "      <td>5.00</td>\n",
       "      <td>655.35</td>\n",
       "      <td>10.30</td>\n",
       "      <td>3.30</td>\n",
       "      <td>380.80</td>\n",
       "      <td>95.00</td>\n",
       "      <td>0.30</td>\n",
       "      <td>656.15</td>\n",
       "      <td>2.75</td>\n",
       "      <td>23.00</td>\n",
       "      <td>68.20</td>\n",
       "      <td>265.00</td>\n",
       "    </tr>\n",
       "  </tbody>\n",
       "</table>\n",
       "</div>"
      ],
      "text/plain": [
       "         VendorID passenger_count trip_distance  RatecodeID PULocationID  \\\n",
       "count  2979367.00      2877629.00    2979367.00  2877629.00   2979367.00   \n",
       "mean         1.71            1.39          5.85        1.42       165.53   \n",
       "std          0.50            0.98        642.54        6.02        65.61   \n",
       "min          1.00            0.00          0.00        1.00         1.00   \n",
       "25%          1.00            1.00          1.08        1.00       132.00   \n",
       "50%          2.00            1.00          1.79        1.00       162.00   \n",
       "75%          2.00            1.00          3.20        1.00       234.00   \n",
       "max          6.00            9.00     348798.53       99.00       265.00   \n",
       "\n",
       "      DOLocationID payment_type fare_amount       extra     mta_tax  \\\n",
       "count   2979367.00   2979367.00  2979367.00  2979367.00  2979367.00   \n",
       "mean        163.43         1.17       13.13        1.02        0.49   \n",
       "std          70.42         0.50       12.05        1.23        0.08   \n",
       "min           1.00         0.00     -600.00       -4.50       -0.50   \n",
       "25%         113.00         1.00        6.50        0.00        0.50   \n",
       "50%         162.00         1.00        9.50        0.50        0.50   \n",
       "75%         234.00         1.00       14.50        2.50        0.50   \n",
       "max         265.00         5.00      655.35       10.30        3.30   \n",
       "\n",
       "       tip_amount tolls_amount improvement_surcharge total_amount  \\\n",
       "count  2979367.00   2979367.00            2979367.00   2979367.00   \n",
       "mean         2.50         0.38                  0.30        19.50   \n",
       "std          2.79         1.67                  0.04        14.95   \n",
       "min       -188.00       -29.05                 -0.30      -600.30   \n",
       "25%          1.00         0.00                  0.30        11.76   \n",
       "50%          2.06         0.00                  0.30        15.30   \n",
       "75%          3.15         0.00                  0.30        20.80   \n",
       "max        380.80        95.00                  0.30       656.15   \n",
       "\n",
       "      congestion_surcharge   date_hour        temp  LocationID  \n",
       "count           2877629.00  2979367.00  2979367.00  2979367.00  \n",
       "mean                  2.31       14.21       38.29      165.53  \n",
       "std                   0.71        5.70       10.97       65.61  \n",
       "min                  -2.50        0.00       16.50        1.00  \n",
       "25%                   2.50       11.00       30.30      132.00  \n",
       "50%                   2.50       15.00       36.20      162.00  \n",
       "75%                   2.50       19.00       45.20      234.00  \n",
       "max                   2.75       23.00       68.20      265.00  "
      ]
     },
     "execution_count": 180,
     "metadata": {},
     "output_type": "execute_result"
    }
   ],
   "source": [
    "df.describe().apply(lambda x: x.apply('{0:.2f}'.format))"
   ]
  },
  {
   "cell_type": "markdown",
   "metadata": {},
   "source": [
    "we can see that there are outliers. We will do drop outliers and data cleaning after feature selection."
   ]
  },
  {
   "cell_type": "markdown",
   "metadata": {},
   "source": [
    "## Feature Selection"
   ]
  },
  {
   "cell_type": "code",
   "execution_count": 181,
   "metadata": {},
   "outputs": [
    {
     "data": {
      "text/plain": [
       "<AxesSubplot:>"
      ]
     },
     "execution_count": 181,
     "metadata": {},
     "output_type": "execute_result"
    },
    {
     "data": {
      "image/png": "[encoded data removed]",
      "text/plain": [
       "<Figure size 432x288 with 2 Axes>"
      ]
     },
     "metadata": {
      "needs_background": "light"
     },
     "output_type": "display_data"
    }
   ],
   "source": [
    "# Create a heatmap\n",
    "sns.heatmap(df.corr(), square=True, cmap='RdYlGn')"
   ]
  },
  {
   "cell_type": "markdown",
   "metadata": {},
   "source": [
    "We drop all columns that has no linear relationship with tip ammount, except some comlumns which will be used to do feature engineering and we hope they can have a linear relationship with tip amount."
   ]
  },
  {
   "cell_type": "code",
   "execution_count": 224,
   "metadata": {
    "scrolled": false
   },
   "outputs": [
    {
     "data": {
      "text/html": [
       "<div>\n",
       "<style scoped>\n",
       "    .dataframe tbody tr th:only-of-type {\n",
       "        vertical-align: middle;\n",
       "    }\n",
       "\n",
       "    .dataframe tbody tr th {\n",
       "        vertical-align: top;\n",
       "    }\n",
       "\n",
       "    .dataframe thead th {\n",
       "        text-align: right;\n",
       "    }\n",
       "</style>\n",
       "<table border=\"1\" class=\"dataframe\">\n",
       "  <thead>\n",
       "    <tr style=\"text-align: right;\">\n",
       "      <th></th>\n",
       "      <th>tpep_pickup_datetime</th>\n",
       "      <th>tpep_dropoff_datetime</th>\n",
       "      <th>trip_distance</th>\n",
       "      <th>RatecodeID</th>\n",
       "      <th>payment_type</th>\n",
       "      <th>fare_amount</th>\n",
       "      <th>total_amount</th>\n",
       "      <th>tip_amount</th>\n",
       "      <th>date_hour</th>\n",
       "      <th>temp</th>\n",
       "      <th>icon</th>\n",
       "      <th>Borough</th>\n",
       "    </tr>\n",
       "  </thead>\n",
       "  <tbody>\n",
       "    <tr>\n",
       "      <th>0</th>\n",
       "      <td>2022-02-01 00:06:58</td>\n",
       "      <td>2022-02-01 00:19:24</td>\n",
       "      <td>5.40</td>\n",
       "      <td>1.0</td>\n",
       "      <td>1</td>\n",
       "      <td>17.0</td>\n",
       "      <td>23.45</td>\n",
       "      <td>3.90</td>\n",
       "      <td>0</td>\n",
       "      <td>25.0</td>\n",
       "      <td>clear-night</td>\n",
       "      <td>Queens</td>\n",
       "    </tr>\n",
       "    <tr>\n",
       "      <th>1</th>\n",
       "      <td>2022-02-01 00:38:22</td>\n",
       "      <td>2022-02-01 00:55:55</td>\n",
       "      <td>6.40</td>\n",
       "      <td>1.0</td>\n",
       "      <td>2</td>\n",
       "      <td>21.0</td>\n",
       "      <td>30.10</td>\n",
       "      <td>0.00</td>\n",
       "      <td>0</td>\n",
       "      <td>25.0</td>\n",
       "      <td>clear-night</td>\n",
       "      <td>Queens</td>\n",
       "    </tr>\n",
       "    <tr>\n",
       "      <th>2</th>\n",
       "      <td>2022-02-01 00:03:20</td>\n",
       "      <td>2022-02-01 00:26:59</td>\n",
       "      <td>12.50</td>\n",
       "      <td>1.0</td>\n",
       "      <td>2</td>\n",
       "      <td>35.5</td>\n",
       "      <td>44.60</td>\n",
       "      <td>0.00</td>\n",
       "      <td>0</td>\n",
       "      <td>25.0</td>\n",
       "      <td>clear-night</td>\n",
       "      <td>Queens</td>\n",
       "    </tr>\n",
       "    <tr>\n",
       "      <th>3</th>\n",
       "      <td>2022-02-01 00:06:48</td>\n",
       "      <td>2022-02-01 00:33:07</td>\n",
       "      <td>12.16</td>\n",
       "      <td>1.0</td>\n",
       "      <td>1</td>\n",
       "      <td>35.5</td>\n",
       "      <td>48.66</td>\n",
       "      <td>8.11</td>\n",
       "      <td>0</td>\n",
       "      <td>25.0</td>\n",
       "      <td>clear-night</td>\n",
       "      <td>Queens</td>\n",
       "    </tr>\n",
       "    <tr>\n",
       "      <th>4</th>\n",
       "      <td>2022-02-01 00:23:16</td>\n",
       "      <td>2022-02-01 00:40:53</td>\n",
       "      <td>11.77</td>\n",
       "      <td>1.0</td>\n",
       "      <td>1</td>\n",
       "      <td>32.0</td>\n",
       "      <td>41.21</td>\n",
       "      <td>6.66</td>\n",
       "      <td>0</td>\n",
       "      <td>25.0</td>\n",
       "      <td>clear-night</td>\n",
       "      <td>Queens</td>\n",
       "    </tr>\n",
       "  </tbody>\n",
       "</table>\n",
       "</div>"
      ],
      "text/plain": [
       "  tpep_pickup_datetime tpep_dropoff_datetime  trip_distance  RatecodeID  \\\n",
       "0  2022-02-01 00:06:58   2022-02-01 00:19:24           5.40         1.0   \n",
       "1  2022-02-01 00:38:22   2022-02-01 00:55:55           6.40         1.0   \n",
       "2  2022-02-01 00:03:20   2022-02-01 00:26:59          12.50         1.0   \n",
       "3  2022-02-01 00:06:48   2022-02-01 00:33:07          12.16         1.0   \n",
       "4  2022-02-01 00:23:16   2022-02-01 00:40:53          11.77         1.0   \n",
       "\n",
       "   payment_type  fare_amount  total_amount  tip_amount  date_hour  temp  \\\n",
       "0             1         17.0         23.45        3.90          0  25.0   \n",
       "1             2         21.0         30.10        0.00          0  25.0   \n",
       "2             2         35.5         44.60        0.00          0  25.0   \n",
       "3             1         35.5         48.66        8.11          0  25.0   \n",
       "4             1         32.0         41.21        6.66          0  25.0   \n",
       "\n",
       "          icon Borough  \n",
       "0  clear-night  Queens  \n",
       "1  clear-night  Queens  \n",
       "2  clear-night  Queens  \n",
       "3  clear-night  Queens  \n",
       "4  clear-night  Queens  "
      ]
     },
     "execution_count": 224,
     "metadata": {},
     "output_type": "execute_result"
    }
   ],
   "source": [
    "# Features we want to explore\n",
    "column_names = ['tpep_pickup_datetime','tpep_dropoff_datetime','trip_distance','RatecodeID','payment_type',\n",
    "                'fare_amount','total_amount','tip_amount','date_hour', 'temp', 'icon','Borough']\n",
    "df_taxi = df[column_names]\n",
    "df_taxi.head()"
   ]
  },
  {
   "cell_type": "markdown",
   "metadata": {},
   "source": [
    "## Feture Engineering"
   ]
  },
  {
   "cell_type": "code",
   "execution_count": 225,
   "metadata": {},
   "outputs": [],
   "source": [
    "df_taxi = df_taxi[df_taxi['payment_type'] == 1] # 1 here means paid by credit card. \n",
    "                                            #Tip_amount appears when paid by credit card(check Data Dictionary)\n",
    "#Create Feature: trip duration in minutes\n",
    "df_taxi['trip_duration'] = df_taxi['tpep_dropoff_datetime'] - df_taxi['tpep_pickup_datetime']\n",
    "df_taxi['trip_duration'] = df_taxi['trip_duration'].astype('timedelta64[m]')\n",
    "#Create Feature: trip speed in m/h\n",
    "df_taxi['trip_speed'] = df_taxi['trip_distance']/(df_taxi['trip_duration']/60)\n",
    "#Create Feature: tip rate in percent\n",
    "df_taxi['tip_rate'] = (df_taxi['tip_amount']/df_taxi['total_amount'])*100\n",
    "#Drop column payment_type as we've used payment type is 1 already\n",
    "#Drop column RatecodeID as all RatecodeID is 1 after droping outliers\n",
    "df_taxi = df_taxi.drop('payment_type', axis = 1)"
   ]
  },
  {
   "cell_type": "code",
   "execution_count": 226,
   "metadata": {},
   "outputs": [],
   "source": [
    "#Create Features: pickup_hour, dropoff_hour, dayOfWeek\n",
    "df_taxi['pickup_hour'] = df_taxi['tpep_pickup_datetime'].dt.hour\n",
    "df_taxi['dropoff_hour'] = df_taxi['tpep_dropoff_datetime'].dt.hour\n",
    "df_taxi['dayOfWeek'] = df_taxi['tpep_dropoff_datetime'].dt.day_name()"
   ]
  },
  {
   "cell_type": "markdown",
   "metadata": {},
   "source": [
    "## Drop outliers"
   ]
  },
  {
   "cell_type": "code",
   "execution_count": 227,
   "metadata": {},
   "outputs": [],
   "source": [
    "df_taxi = df_taxi[df_taxi['fare_amount'] > 0]\n",
    "df_taxi = df_taxi[df_taxi['total_amount'] > 0]# Amount should be higher than 0\n",
    "df_taxi = df_taxi[df_taxi['trip_speed'] < 100]\n",
    "df_taxi = df_taxi[df_taxi['trip_speed'] > 0]\n",
    "# use 3<z-score < 3 to filter data\n",
    "df_taxi = df_taxi[(np.abs(stats.zscore(df_taxi['trip_distance'])) < 3)]\n",
    "df_taxi = df_taxi[(np.abs(stats.zscore(df_taxi['fare_amount'])) < 3)]\n",
    "df_taxi = df_taxi[(np.abs(stats.zscore(df_taxi['total_amount'])) < 3)]\n",
    "df_taxi = df_taxi[(np.abs(stats.zscore(df_taxi['RatecodeID'])) < 3)] \n",
    "df_taxi = df_taxi[(np.abs(stats.zscore(df_taxi['tip_amount'])) < 3)] \n",
    "df_taxi = df_taxi[(np.abs(stats.zscore(df_taxi['tip_rate'])) < 3)]"
   ]
  },
  {
   "cell_type": "markdown",
   "metadata": {},
   "source": [
    "## Data Cleaning "
   ]
  },
  {
   "cell_type": "code",
   "execution_count": 228,
   "metadata": {
    "scrolled": true
   },
   "outputs": [
    {
     "data": {
      "text/plain": [
       "tpep_pickup_datetime     0\n",
       "tpep_dropoff_datetime    0\n",
       "trip_distance            0\n",
       "RatecodeID               0\n",
       "fare_amount              0\n",
       "total_amount             0\n",
       "tip_amount               0\n",
       "date_hour                0\n",
       "temp                     0\n",
       "icon                     0\n",
       "Borough                  0\n",
       "trip_duration            0\n",
       "trip_speed               0\n",
       "tip_rate                 0\n",
       "pickup_hour              0\n",
       "dropoff_hour             0\n",
       "dayOfWeek                0\n",
       "dtype: int64"
      ]
     },
     "execution_count": 228,
     "metadata": {},
     "output_type": "execute_result"
    }
   ],
   "source": [
    "# Check null values in all columns\n",
    "df_taxi.isnull().sum()"
   ]
  },
  {
   "cell_type": "markdown",
   "metadata": {},
   "source": [
    "Good. We got no nulls."
   ]
  },
  {
   "cell_type": "code",
   "execution_count": 229,
   "metadata": {
    "scrolled": true
   },
   "outputs": [
    {
     "data": {
      "text/html": [
       "<div>\n",
       "<style scoped>\n",
       "    .dataframe tbody tr th:only-of-type {\n",
       "        vertical-align: middle;\n",
       "    }\n",
       "\n",
       "    .dataframe tbody tr th {\n",
       "        vertical-align: top;\n",
       "    }\n",
       "\n",
       "    .dataframe thead th {\n",
       "        text-align: right;\n",
       "    }\n",
       "</style>\n",
       "<table border=\"1\" class=\"dataframe\">\n",
       "  <thead>\n",
       "    <tr style=\"text-align: right;\">\n",
       "      <th></th>\n",
       "      <th>tpep_pickup_datetime</th>\n",
       "      <th>tpep_dropoff_datetime</th>\n",
       "      <th>trip_distance</th>\n",
       "      <th>RatecodeID</th>\n",
       "      <th>fare_amount</th>\n",
       "      <th>total_amount</th>\n",
       "      <th>tip_amount</th>\n",
       "      <th>date_hour</th>\n",
       "      <th>temp</th>\n",
       "      <th>icon</th>\n",
       "      <th>Borough</th>\n",
       "      <th>trip_duration</th>\n",
       "      <th>trip_speed</th>\n",
       "      <th>tip_rate</th>\n",
       "      <th>pickup_hour</th>\n",
       "      <th>dropoff_hour</th>\n",
       "      <th>dayOfWeek</th>\n",
       "    </tr>\n",
       "  </thead>\n",
       "  <tbody>\n",
       "    <tr>\n",
       "      <th>349430</th>\n",
       "      <td>2022-02-09 12:15:27</td>\n",
       "      <td>2022-02-09 12:26:55</td>\n",
       "      <td>1.5</td>\n",
       "      <td>1.0</td>\n",
       "      <td>9.0</td>\n",
       "      <td>14.75</td>\n",
       "      <td>2.45</td>\n",
       "      <td>12</td>\n",
       "      <td>41.4</td>\n",
       "      <td>clear-day</td>\n",
       "      <td>Manhattan</td>\n",
       "      <td>11.0</td>\n",
       "      <td>8.181818</td>\n",
       "      <td>16.610169</td>\n",
       "      <td>12</td>\n",
       "      <td>12</td>\n",
       "      <td>Wednesday</td>\n",
       "    </tr>\n",
       "  </tbody>\n",
       "</table>\n",
       "</div>"
      ],
      "text/plain": [
       "       tpep_pickup_datetime tpep_dropoff_datetime  trip_distance  RatecodeID  \\\n",
       "349430  2022-02-09 12:15:27   2022-02-09 12:26:55            1.5         1.0   \n",
       "\n",
       "        fare_amount  total_amount  tip_amount  date_hour  temp       icon  \\\n",
       "349430          9.0         14.75        2.45         12  41.4  clear-day   \n",
       "\n",
       "          Borough  trip_duration  trip_speed   tip_rate  pickup_hour  \\\n",
       "349430  Manhattan           11.0    8.181818  16.610169           12   \n",
       "\n",
       "        dropoff_hour  dayOfWeek  \n",
       "349430            12  Wednesday  "
      ]
     },
     "execution_count": 229,
     "metadata": {},
     "output_type": "execute_result"
    }
   ],
   "source": [
    "# Check duplicates\n",
    "duplicates = df_taxi[df_taxi.duplicated(keep = 'first')]\n",
    "duplicates.sort_values(by=['RatecodeID'], ascending=False)"
   ]
  },
  {
   "cell_type": "code",
   "execution_count": 230,
   "metadata": {},
   "outputs": [],
   "source": [
    "# Drop all duplicates \n",
    "df_taxi.drop_duplicates(inplace = True)"
   ]
  },
  {
   "cell_type": "code",
   "execution_count": 231,
   "metadata": {
    "scrolled": true
   },
   "outputs": [
    {
     "data": {
      "text/html": [
       "<div>\n",
       "<style scoped>\n",
       "    .dataframe tbody tr th:only-of-type {\n",
       "        vertical-align: middle;\n",
       "    }\n",
       "\n",
       "    .dataframe tbody tr th {\n",
       "        vertical-align: top;\n",
       "    }\n",
       "\n",
       "    .dataframe thead th {\n",
       "        text-align: right;\n",
       "    }\n",
       "</style>\n",
       "<table border=\"1\" class=\"dataframe\">\n",
       "  <thead>\n",
       "    <tr style=\"text-align: right;\">\n",
       "      <th></th>\n",
       "      <th>tpep_pickup_datetime</th>\n",
       "      <th>tpep_dropoff_datetime</th>\n",
       "      <th>trip_distance</th>\n",
       "      <th>RatecodeID</th>\n",
       "      <th>fare_amount</th>\n",
       "      <th>total_amount</th>\n",
       "      <th>tip_amount</th>\n",
       "      <th>date_hour</th>\n",
       "      <th>temp</th>\n",
       "      <th>icon</th>\n",
       "      <th>Borough</th>\n",
       "      <th>trip_duration</th>\n",
       "      <th>trip_speed</th>\n",
       "      <th>tip_rate</th>\n",
       "      <th>pickup_hour</th>\n",
       "      <th>dropoff_hour</th>\n",
       "      <th>dayOfWeek</th>\n",
       "    </tr>\n",
       "  </thead>\n",
       "  <tbody>\n",
       "    <tr>\n",
       "      <th>0</th>\n",
       "      <td>2022-02-01 00:06:58</td>\n",
       "      <td>2022-02-01 00:19:24</td>\n",
       "      <td>5.40</td>\n",
       "      <td>1.0</td>\n",
       "      <td>17.0</td>\n",
       "      <td>23.45</td>\n",
       "      <td>3.90</td>\n",
       "      <td>0</td>\n",
       "      <td>25.0</td>\n",
       "      <td>clear-night</td>\n",
       "      <td>Queens</td>\n",
       "      <td>12.0</td>\n",
       "      <td>27.000000</td>\n",
       "      <td>16.631130</td>\n",
       "      <td>0</td>\n",
       "      <td>0</td>\n",
       "      <td>Tuesday</td>\n",
       "    </tr>\n",
       "    <tr>\n",
       "      <th>6</th>\n",
       "      <td>2022-02-01 00:05:33</td>\n",
       "      <td>2022-02-01 00:25:57</td>\n",
       "      <td>10.16</td>\n",
       "      <td>1.0</td>\n",
       "      <td>29.5</td>\n",
       "      <td>38.46</td>\n",
       "      <td>6.41</td>\n",
       "      <td>0</td>\n",
       "      <td>25.0</td>\n",
       "      <td>clear-night</td>\n",
       "      <td>Queens</td>\n",
       "      <td>20.0</td>\n",
       "      <td>30.480000</td>\n",
       "      <td>16.666667</td>\n",
       "      <td>0</td>\n",
       "      <td>0</td>\n",
       "      <td>Tuesday</td>\n",
       "    </tr>\n",
       "    <tr>\n",
       "      <th>7</th>\n",
       "      <td>2022-02-01 00:14:06</td>\n",
       "      <td>2022-02-01 00:31:56</td>\n",
       "      <td>10.33</td>\n",
       "      <td>1.0</td>\n",
       "      <td>29.0</td>\n",
       "      <td>37.61</td>\n",
       "      <td>6.06</td>\n",
       "      <td>0</td>\n",
       "      <td>25.0</td>\n",
       "      <td>clear-night</td>\n",
       "      <td>Queens</td>\n",
       "      <td>17.0</td>\n",
       "      <td>36.458824</td>\n",
       "      <td>16.112736</td>\n",
       "      <td>0</td>\n",
       "      <td>0</td>\n",
       "      <td>Tuesday</td>\n",
       "    </tr>\n",
       "    <tr>\n",
       "      <th>9</th>\n",
       "      <td>2022-02-01 00:32:38</td>\n",
       "      <td>2022-02-01 00:42:45</td>\n",
       "      <td>4.60</td>\n",
       "      <td>1.0</td>\n",
       "      <td>14.5</td>\n",
       "      <td>19.55</td>\n",
       "      <td>2.50</td>\n",
       "      <td>0</td>\n",
       "      <td>25.0</td>\n",
       "      <td>clear-night</td>\n",
       "      <td>Queens</td>\n",
       "      <td>10.0</td>\n",
       "      <td>27.600000</td>\n",
       "      <td>12.787724</td>\n",
       "      <td>0</td>\n",
       "      <td>0</td>\n",
       "      <td>Tuesday</td>\n",
       "    </tr>\n",
       "    <tr>\n",
       "      <th>12</th>\n",
       "      <td>2022-02-01 00:11:02</td>\n",
       "      <td>2022-02-01 00:23:50</td>\n",
       "      <td>7.72</td>\n",
       "      <td>1.0</td>\n",
       "      <td>22.0</td>\n",
       "      <td>29.46</td>\n",
       "      <td>4.91</td>\n",
       "      <td>0</td>\n",
       "      <td>25.0</td>\n",
       "      <td>clear-night</td>\n",
       "      <td>Queens</td>\n",
       "      <td>12.0</td>\n",
       "      <td>38.600000</td>\n",
       "      <td>16.666667</td>\n",
       "      <td>0</td>\n",
       "      <td>0</td>\n",
       "      <td>Tuesday</td>\n",
       "    </tr>\n",
       "  </tbody>\n",
       "</table>\n",
       "</div>"
      ],
      "text/plain": [
       "   tpep_pickup_datetime tpep_dropoff_datetime  trip_distance  RatecodeID  \\\n",
       "0   2022-02-01 00:06:58   2022-02-01 00:19:24           5.40         1.0   \n",
       "6   2022-02-01 00:05:33   2022-02-01 00:25:57          10.16         1.0   \n",
       "7   2022-02-01 00:14:06   2022-02-01 00:31:56          10.33         1.0   \n",
       "9   2022-02-01 00:32:38   2022-02-01 00:42:45           4.60         1.0   \n",
       "12  2022-02-01 00:11:02   2022-02-01 00:23:50           7.72         1.0   \n",
       "\n",
       "    fare_amount  total_amount  tip_amount  date_hour  temp         icon  \\\n",
       "0          17.0         23.45        3.90          0  25.0  clear-night   \n",
       "6          29.5         38.46        6.41          0  25.0  clear-night   \n",
       "7          29.0         37.61        6.06          0  25.0  clear-night   \n",
       "9          14.5         19.55        2.50          0  25.0  clear-night   \n",
       "12         22.0         29.46        4.91          0  25.0  clear-night   \n",
       "\n",
       "   Borough  trip_duration  trip_speed   tip_rate  pickup_hour  dropoff_hour  \\\n",
       "0   Queens           12.0   27.000000  16.631130            0             0   \n",
       "6   Queens           20.0   30.480000  16.666667            0             0   \n",
       "7   Queens           17.0   36.458824  16.112736            0             0   \n",
       "9   Queens           10.0   27.600000  12.787724            0             0   \n",
       "12  Queens           12.0   38.600000  16.666667            0             0   \n",
       "\n",
       "   dayOfWeek  \n",
       "0    Tuesday  \n",
       "6    Tuesday  \n",
       "7    Tuesday  \n",
       "9    Tuesday  \n",
       "12   Tuesday  "
      ]
     },
     "execution_count": 231,
     "metadata": {},
     "output_type": "execute_result"
    }
   ],
   "source": [
    "df_taxi.head()"
   ]
  },
  {
   "cell_type": "markdown",
   "metadata": {},
   "source": [
    "Now the df_taxi data is cleaned without null, dupilactes and outliers."
   ]
  },
  {
   "cell_type": "markdown",
   "metadata": {},
   "source": [
    "### Check all features that will be categorized"
   ]
  },
  {
   "cell_type": "markdown",
   "metadata": {},
   "source": [
    "Convert objects to Category"
   ]
  },
  {
   "cell_type": "code",
   "execution_count": 302,
   "metadata": {},
   "outputs": [],
   "source": [
    "df_taxi['RatecodeID'] = df_taxi['RatecodeID'].astype('category')"
   ]
  },
  {
   "cell_type": "code",
   "execution_count": 303,
   "metadata": {},
   "outputs": [
    {
     "data": {
      "text/plain": [
       "count     1994273.0\n",
       "unique          4.0\n",
       "top             1.0\n",
       "freq      1993536.0\n",
       "Name: RatecodeID, dtype: float64"
      ]
     },
     "execution_count": 303,
     "metadata": {},
     "output_type": "execute_result"
    }
   ],
   "source": [
    "df_taxi['RatecodeID'].describe()"
   ]
  },
  {
   "cell_type": "code",
   "execution_count": 206,
   "metadata": {
    "scrolled": false
   },
   "outputs": [
    {
     "data": {
      "text/plain": [
       "array(['Bronx', 'Brooklyn', 'EWR', 'Manhattan', 'Queens', 'Staten Island',\n",
       "       'Unknown'], dtype=object)"
      ]
     },
     "execution_count": 206,
     "metadata": {},
     "output_type": "execute_result"
    }
   ],
   "source": [
    "np.sort(df_taxi['Borough'].unique())"
   ]
  },
  {
   "cell_type": "code",
   "execution_count": 235,
   "metadata": {
    "scrolled": true
   },
   "outputs": [
    {
     "data": {
      "text/plain": [
       "count       1994273\n",
       "unique            7\n",
       "top       Manhattan\n",
       "freq        1954366\n",
       "Name: Borough, dtype: object"
      ]
     },
     "execution_count": 235,
     "metadata": {},
     "output_type": "execute_result"
    }
   ],
   "source": [
    "df_taxi['Borough'] = df_taxi['Borough'].astype('category')\n",
    "df_taxi['Borough'].describe()"
   ]
  },
  {
   "cell_type": "code",
   "execution_count": 245,
   "metadata": {
    "scrolled": false
   },
   "outputs": [
    {
     "data": {
      "text/plain": [
       "count       1994273\n",
       "unique            8\n",
       "top       clear-day\n",
       "freq         407228\n",
       "Name: icon, dtype: object"
      ]
     },
     "execution_count": 245,
     "metadata": {},
     "output_type": "execute_result"
    }
   ],
   "source": [
    "df_taxi['icon'] = df_taxi['icon'].astype('category')\n",
    "df_taxi['icon'].describe()"
   ]
  },
  {
   "cell_type": "code",
   "execution_count": 247,
   "metadata": {},
   "outputs": [
    {
     "data": {
      "text/plain": [
       "count      1994273\n",
       "unique           7\n",
       "top       Saturday\n",
       "freq        323771\n",
       "Name: dayOfWeek, dtype: object"
      ]
     },
     "execution_count": 247,
     "metadata": {},
     "output_type": "execute_result"
    }
   ],
   "source": [
    "df_taxi['dayOfWeek'] = df_taxi['dayOfWeek'].astype('category')\n",
    "df_taxi['dayOfWeek'].describe()"
   ]
  },
  {
   "cell_type": "code",
   "execution_count": 248,
   "metadata": {},
   "outputs": [
    {
     "data": {
      "text/plain": [
       "count     1994273\n",
       "unique         24\n",
       "top            18\n",
       "freq       159174\n",
       "Name: date_hour, dtype: int64"
      ]
     },
     "execution_count": 248,
     "metadata": {},
     "output_type": "execute_result"
    }
   ],
   "source": [
    "df_taxi['date_hour'] = df_taxi['date_hour'].astype('category')\n",
    "df_taxi['date_hour'].describe()"
   ]
  },
  {
   "cell_type": "code",
   "execution_count": 279,
   "metadata": {},
   "outputs": [
    {
     "data": {
      "text/plain": [
       "count       1994273\n",
       "unique            3\n",
       "top       Low Speed\n",
       "freq        1077107\n",
       "Name: speed_level, dtype: object"
      ]
     },
     "execution_count": 279,
     "metadata": {},
     "output_type": "execute_result"
    }
   ],
   "source": [
    "df_taxi['speed_level'] = df_taxi['speed_level'].astype('category')\n",
    "df_taxi['speed_level'].describe()"
   ]
  },
  {
   "cell_type": "code",
   "execution_count": 236,
   "metadata": {
    "scrolled": false
   },
   "outputs": [
    {
     "data": {
      "text/html": [
       "<div>\n",
       "<style scoped>\n",
       "    .dataframe tbody tr th:only-of-type {\n",
       "        vertical-align: middle;\n",
       "    }\n",
       "\n",
       "    .dataframe tbody tr th {\n",
       "        vertical-align: top;\n",
       "    }\n",
       "\n",
       "    .dataframe thead th {\n",
       "        text-align: right;\n",
       "    }\n",
       "</style>\n",
       "<table border=\"1\" class=\"dataframe\">\n",
       "  <thead>\n",
       "    <tr style=\"text-align: right;\">\n",
       "      <th></th>\n",
       "      <th>trip_distance</th>\n",
       "      <th>fare_amount</th>\n",
       "      <th>total_amount</th>\n",
       "      <th>tip_amount</th>\n",
       "      <th>date_hour</th>\n",
       "      <th>temp</th>\n",
       "      <th>trip_duration</th>\n",
       "      <th>trip_speed</th>\n",
       "      <th>tip_rate</th>\n",
       "      <th>pickup_hour</th>\n",
       "      <th>dropoff_hour</th>\n",
       "    </tr>\n",
       "  </thead>\n",
       "  <tbody>\n",
       "    <tr>\n",
       "      <th>count</th>\n",
       "      <td>1994273.00</td>\n",
       "      <td>1994273.00</td>\n",
       "      <td>1994273.00</td>\n",
       "      <td>1994273.00</td>\n",
       "      <td>1994273.00</td>\n",
       "      <td>1994273.00</td>\n",
       "      <td>1994273.00</td>\n",
       "      <td>1994273.00</td>\n",
       "      <td>1994273.00</td>\n",
       "      <td>1994273.00</td>\n",
       "      <td>1994273.00</td>\n",
       "    </tr>\n",
       "    <tr>\n",
       "      <th>mean</th>\n",
       "      <td>2.11</td>\n",
       "      <td>10.17</td>\n",
       "      <td>16.36</td>\n",
       "      <td>2.58</td>\n",
       "      <td>14.38</td>\n",
       "      <td>38.29</td>\n",
       "      <td>12.48</td>\n",
       "      <td>11.56</td>\n",
       "      <td>15.79</td>\n",
       "      <td>14.38</td>\n",
       "      <td>14.44</td>\n",
       "    </tr>\n",
       "    <tr>\n",
       "      <th>std</th>\n",
       "      <td>1.53</td>\n",
       "      <td>4.90</td>\n",
       "      <td>5.84</td>\n",
       "      <td>1.13</td>\n",
       "      <td>5.67</td>\n",
       "      <td>10.92</td>\n",
       "      <td>39.03</td>\n",
       "      <td>4.91</td>\n",
       "      <td>3.97</td>\n",
       "      <td>5.67</td>\n",
       "      <td>5.75</td>\n",
       "    </tr>\n",
       "    <tr>\n",
       "      <th>min</th>\n",
       "      <td>0.01</td>\n",
       "      <td>1.50</td>\n",
       "      <td>3.88</td>\n",
       "      <td>0.05</td>\n",
       "      <td>0.00</td>\n",
       "      <td>16.50</td>\n",
       "      <td>1.00</td>\n",
       "      <td>0.01</td>\n",
       "      <td>0.60</td>\n",
       "      <td>0.00</td>\n",
       "      <td>0.00</td>\n",
       "    </tr>\n",
       "    <tr>\n",
       "      <th>25%</th>\n",
       "      <td>1.07</td>\n",
       "      <td>6.50</td>\n",
       "      <td>12.25</td>\n",
       "      <td>1.86</td>\n",
       "      <td>11.00</td>\n",
       "      <td>30.30</td>\n",
       "      <td>6.00</td>\n",
       "      <td>8.36</td>\n",
       "      <td>14.78</td>\n",
       "      <td>11.00</td>\n",
       "      <td>11.00</td>\n",
       "    </tr>\n",
       "    <tr>\n",
       "      <th>50%</th>\n",
       "      <td>1.68</td>\n",
       "      <td>9.00</td>\n",
       "      <td>14.80</td>\n",
       "      <td>2.36</td>\n",
       "      <td>15.00</td>\n",
       "      <td>36.20</td>\n",
       "      <td>10.00</td>\n",
       "      <td>10.58</td>\n",
       "      <td>16.67</td>\n",
       "      <td>15.00</td>\n",
       "      <td>15.00</td>\n",
       "    </tr>\n",
       "    <tr>\n",
       "      <th>75%</th>\n",
       "      <td>2.64</td>\n",
       "      <td>12.50</td>\n",
       "      <td>18.96</td>\n",
       "      <td>3.16</td>\n",
       "      <td>19.00</td>\n",
       "      <td>45.20</td>\n",
       "      <td>15.00</td>\n",
       "      <td>13.63</td>\n",
       "      <td>16.67</td>\n",
       "      <td>19.00</td>\n",
       "      <td>19.00</td>\n",
       "    </tr>\n",
       "    <tr>\n",
       "      <th>max</th>\n",
       "      <td>14.80</td>\n",
       "      <td>33.00</td>\n",
       "      <td>40.02</td>\n",
       "      <td>6.59</td>\n",
       "      <td>23.00</td>\n",
       "      <td>68.20</td>\n",
       "      <td>1439.00</td>\n",
       "      <td>94.80</td>\n",
       "      <td>30.09</td>\n",
       "      <td>23.00</td>\n",
       "      <td>23.00</td>\n",
       "    </tr>\n",
       "  </tbody>\n",
       "</table>\n",
       "</div>"
      ],
      "text/plain": [
       "      trip_distance fare_amount total_amount  tip_amount   date_hour  \\\n",
       "count    1994273.00  1994273.00   1994273.00  1994273.00  1994273.00   \n",
       "mean           2.11       10.17        16.36        2.58       14.38   \n",
       "std            1.53        4.90         5.84        1.13        5.67   \n",
       "min            0.01        1.50         3.88        0.05        0.00   \n",
       "25%            1.07        6.50        12.25        1.86       11.00   \n",
       "50%            1.68        9.00        14.80        2.36       15.00   \n",
       "75%            2.64       12.50        18.96        3.16       19.00   \n",
       "max           14.80       33.00        40.02        6.59       23.00   \n",
       "\n",
       "             temp trip_duration  trip_speed    tip_rate pickup_hour  \\\n",
       "count  1994273.00    1994273.00  1994273.00  1994273.00  1994273.00   \n",
       "mean        38.29         12.48       11.56       15.79       14.38   \n",
       "std         10.92         39.03        4.91        3.97        5.67   \n",
       "min         16.50          1.00        0.01        0.60        0.00   \n",
       "25%         30.30          6.00        8.36       14.78       11.00   \n",
       "50%         36.20         10.00       10.58       16.67       15.00   \n",
       "75%         45.20         15.00       13.63       16.67       19.00   \n",
       "max         68.20       1439.00       94.80       30.09       23.00   \n",
       "\n",
       "      dropoff_hour  \n",
       "count   1994273.00  \n",
       "mean         14.44  \n",
       "std           5.75  \n",
       "min           0.00  \n",
       "25%          11.00  \n",
       "50%          15.00  \n",
       "75%          19.00  \n",
       "max          23.00  "
      ]
     },
     "execution_count": 236,
     "metadata": {},
     "output_type": "execute_result"
    }
   ],
   "source": [
    "df_taxi.describe().apply(lambda x: x.apply('{0:.2f}'.format))"
   ]
  },
  {
   "cell_type": "markdown",
   "metadata": {},
   "source": [
    "### tip rate engineering"
   ]
  },
  {
   "cell_type": "code",
   "execution_count": 276,
   "metadata": {
    "scrolled": false
   },
   "outputs": [],
   "source": [
    "# convert tip rate into levels for furture classication\n",
    "def get_tip_level(tip_rate):\n",
    "    if tip_rate < 15:\n",
    "        return 'Low'\n",
    "    elif tip_rate < 18:\n",
    "        return 'Medium'\n",
    "    else:\n",
    "        return 'High' \n",
    "#Convert trip speed into levels for future model\n",
    "def get_speed_level(trip_speed):\n",
    "    if trip_speed <11:\n",
    "        return 'Low Speed'\n",
    "    elif trip_speed < 20:\n",
    "        return 'Medium Speed'\n",
    "    else:\n",
    "        return 'Higher Speed'"
   ]
  },
  {
   "cell_type": "code",
   "execution_count": 277,
   "metadata": {},
   "outputs": [],
   "source": [
    "df_taxi['tip_level'] = df_taxi['tip_rate'].apply(lambda x: get_tip_level(x))\n",
    "df_taxi['speed_level'] = df_taxi['trip_speed'].apply(lambda x: get_speed_level(x))"
   ]
  },
  {
   "cell_type": "code",
   "execution_count": 278,
   "metadata": {},
   "outputs": [
    {
     "data": {
      "text/html": [
       "<div>\n",
       "<style scoped>\n",
       "    .dataframe tbody tr th:only-of-type {\n",
       "        vertical-align: middle;\n",
       "    }\n",
       "\n",
       "    .dataframe tbody tr th {\n",
       "        vertical-align: top;\n",
       "    }\n",
       "\n",
       "    .dataframe thead th {\n",
       "        text-align: right;\n",
       "    }\n",
       "</style>\n",
       "<table border=\"1\" class=\"dataframe\">\n",
       "  <thead>\n",
       "    <tr style=\"text-align: right;\">\n",
       "      <th></th>\n",
       "      <th>tpep_pickup_datetime</th>\n",
       "      <th>tpep_dropoff_datetime</th>\n",
       "      <th>trip_distance</th>\n",
       "      <th>RatecodeID</th>\n",
       "      <th>fare_amount</th>\n",
       "      <th>total_amount</th>\n",
       "      <th>tip_amount</th>\n",
       "      <th>date_hour</th>\n",
       "      <th>temp</th>\n",
       "      <th>icon</th>\n",
       "      <th>Borough</th>\n",
       "      <th>trip_duration</th>\n",
       "      <th>trip_speed</th>\n",
       "      <th>tip_rate</th>\n",
       "      <th>pickup_hour</th>\n",
       "      <th>dropoff_hour</th>\n",
       "      <th>dayOfWeek</th>\n",
       "      <th>tip_level</th>\n",
       "      <th>speed_level</th>\n",
       "    </tr>\n",
       "  </thead>\n",
       "  <tbody>\n",
       "    <tr>\n",
       "      <th>0</th>\n",
       "      <td>2022-02-01 00:06:58</td>\n",
       "      <td>2022-02-01 00:19:24</td>\n",
       "      <td>5.40</td>\n",
       "      <td>1.0</td>\n",
       "      <td>17.0</td>\n",
       "      <td>23.45</td>\n",
       "      <td>3.90</td>\n",
       "      <td>0</td>\n",
       "      <td>25.0</td>\n",
       "      <td>clear-night</td>\n",
       "      <td>Queens</td>\n",
       "      <td>12.0</td>\n",
       "      <td>27.000000</td>\n",
       "      <td>16.631130</td>\n",
       "      <td>0</td>\n",
       "      <td>0</td>\n",
       "      <td>Tuesday</td>\n",
       "      <td>Medium</td>\n",
       "      <td>Higher Speed</td>\n",
       "    </tr>\n",
       "    <tr>\n",
       "      <th>6</th>\n",
       "      <td>2022-02-01 00:05:33</td>\n",
       "      <td>2022-02-01 00:25:57</td>\n",
       "      <td>10.16</td>\n",
       "      <td>1.0</td>\n",
       "      <td>29.5</td>\n",
       "      <td>38.46</td>\n",
       "      <td>6.41</td>\n",
       "      <td>0</td>\n",
       "      <td>25.0</td>\n",
       "      <td>clear-night</td>\n",
       "      <td>Queens</td>\n",
       "      <td>20.0</td>\n",
       "      <td>30.480000</td>\n",
       "      <td>16.666667</td>\n",
       "      <td>0</td>\n",
       "      <td>0</td>\n",
       "      <td>Tuesday</td>\n",
       "      <td>Medium</td>\n",
       "      <td>Higher Speed</td>\n",
       "    </tr>\n",
       "    <tr>\n",
       "      <th>7</th>\n",
       "      <td>2022-02-01 00:14:06</td>\n",
       "      <td>2022-02-01 00:31:56</td>\n",
       "      <td>10.33</td>\n",
       "      <td>1.0</td>\n",
       "      <td>29.0</td>\n",
       "      <td>37.61</td>\n",
       "      <td>6.06</td>\n",
       "      <td>0</td>\n",
       "      <td>25.0</td>\n",
       "      <td>clear-night</td>\n",
       "      <td>Queens</td>\n",
       "      <td>17.0</td>\n",
       "      <td>36.458824</td>\n",
       "      <td>16.112736</td>\n",
       "      <td>0</td>\n",
       "      <td>0</td>\n",
       "      <td>Tuesday</td>\n",
       "      <td>Medium</td>\n",
       "      <td>Higher Speed</td>\n",
       "    </tr>\n",
       "    <tr>\n",
       "      <th>9</th>\n",
       "      <td>2022-02-01 00:32:38</td>\n",
       "      <td>2022-02-01 00:42:45</td>\n",
       "      <td>4.60</td>\n",
       "      <td>1.0</td>\n",
       "      <td>14.5</td>\n",
       "      <td>19.55</td>\n",
       "      <td>2.50</td>\n",
       "      <td>0</td>\n",
       "      <td>25.0</td>\n",
       "      <td>clear-night</td>\n",
       "      <td>Queens</td>\n",
       "      <td>10.0</td>\n",
       "      <td>27.600000</td>\n",
       "      <td>12.787724</td>\n",
       "      <td>0</td>\n",
       "      <td>0</td>\n",
       "      <td>Tuesday</td>\n",
       "      <td>Low</td>\n",
       "      <td>Higher Speed</td>\n",
       "    </tr>\n",
       "    <tr>\n",
       "      <th>12</th>\n",
       "      <td>2022-02-01 00:11:02</td>\n",
       "      <td>2022-02-01 00:23:50</td>\n",
       "      <td>7.72</td>\n",
       "      <td>1.0</td>\n",
       "      <td>22.0</td>\n",
       "      <td>29.46</td>\n",
       "      <td>4.91</td>\n",
       "      <td>0</td>\n",
       "      <td>25.0</td>\n",
       "      <td>clear-night</td>\n",
       "      <td>Queens</td>\n",
       "      <td>12.0</td>\n",
       "      <td>38.600000</td>\n",
       "      <td>16.666667</td>\n",
       "      <td>0</td>\n",
       "      <td>0</td>\n",
       "      <td>Tuesday</td>\n",
       "      <td>Medium</td>\n",
       "      <td>Higher Speed</td>\n",
       "    </tr>\n",
       "  </tbody>\n",
       "</table>\n",
       "</div>"
      ],
      "text/plain": [
       "   tpep_pickup_datetime tpep_dropoff_datetime  trip_distance RatecodeID  \\\n",
       "0   2022-02-01 00:06:58   2022-02-01 00:19:24           5.40        1.0   \n",
       "6   2022-02-01 00:05:33   2022-02-01 00:25:57          10.16        1.0   \n",
       "7   2022-02-01 00:14:06   2022-02-01 00:31:56          10.33        1.0   \n",
       "9   2022-02-01 00:32:38   2022-02-01 00:42:45           4.60        1.0   \n",
       "12  2022-02-01 00:11:02   2022-02-01 00:23:50           7.72        1.0   \n",
       "\n",
       "    fare_amount  total_amount  tip_amount date_hour  temp         icon  \\\n",
       "0          17.0         23.45        3.90         0  25.0  clear-night   \n",
       "6          29.5         38.46        6.41         0  25.0  clear-night   \n",
       "7          29.0         37.61        6.06         0  25.0  clear-night   \n",
       "9          14.5         19.55        2.50         0  25.0  clear-night   \n",
       "12         22.0         29.46        4.91         0  25.0  clear-night   \n",
       "\n",
       "   Borough  trip_duration  trip_speed   tip_rate  pickup_hour  dropoff_hour  \\\n",
       "0   Queens           12.0   27.000000  16.631130            0             0   \n",
       "6   Queens           20.0   30.480000  16.666667            0             0   \n",
       "7   Queens           17.0   36.458824  16.112736            0             0   \n",
       "9   Queens           10.0   27.600000  12.787724            0             0   \n",
       "12  Queens           12.0   38.600000  16.666667            0             0   \n",
       "\n",
       "   dayOfWeek tip_level   speed_level  \n",
       "0    Tuesday    Medium  Higher Speed  \n",
       "6    Tuesday    Medium  Higher Speed  \n",
       "7    Tuesday    Medium  Higher Speed  \n",
       "9    Tuesday       Low  Higher Speed  \n",
       "12   Tuesday    Medium  Higher Speed  "
      ]
     },
     "execution_count": 278,
     "metadata": {},
     "output_type": "execute_result"
    }
   ],
   "source": [
    "df_taxi.head()"
   ]
  },
  {
   "cell_type": "markdown",
   "metadata": {},
   "source": [
    "## Data Visulization"
   ]
  },
  {
   "cell_type": "code",
   "execution_count": 417,
   "metadata": {
    "scrolled": false
   },
   "outputs": [],
   "source": [
    "speed_grouped_df = df_taxi.groupby('speed_level')['tip_amount'].aggregate(np.mean).reset_index()\n",
    "dHour_grouped_df = df_taxi.groupby('date_hour')['tip_amount'].aggregate(np.mean).reset_index()\n",
    "dWeek_grouped_df = df_taxi.groupby('dayOfWeek')['tip_amount'].aggregate(np.mean).reset_index()\n",
    "icon_grouped_df = df_taxi.groupby('icon')['tip_amount'].aggregate(np.mean).reset_index()\n",
    "Borough_grouped_df = df_taxi.groupby('Borough')['tip_amount'].aggregate(np.mean).reset_index()\n",
    "Ratecode_grouped_df = df_taxi.groupby('RatecodeID')['tip_amount'].aggregate(np.mean).reset_index()"
   ]
  },
  {
   "cell_type": "code",
   "execution_count": 421,
   "metadata": {},
   "outputs": [
    {
     "data": {
      "image/png": "[encoded data removed]",
      "text/plain": [
       "<Figure size 1080x1080 with 6 Axes>"
      ]
     },
     "metadata": {},
     "output_type": "display_data"
    }
   ],
   "source": [
    "fig, ax = plt.subplots(3, 2,figsize=(15,15))\n",
    "\n",
    "ax[0,0].plot(speed_grouped_df.speed_level.values,speed_grouped_df.tip_amount.values, color='b')\n",
    "ax[0,0].set_title('speed vs tip')\n",
    "ax[0,1].plot(dHour_grouped_df.date_hour.values,dHour_grouped_df.tip_amount.values, color='b', linestyle='--')\n",
    "ax[0,1].set_title('hour vs tip')\n",
    "ax[1,0].plot(dWeek_grouped_df.dayOfWeek.values,dWeek_grouped_df.tip_amount.values, color='b', linestyle='--')\n",
    "ax[1,0].set_title('weekday vs tip')\n",
    "ax[1,1].plot(icon_grouped_df.icon.values,icon_grouped_df.tip_amount.values, color='r')\n",
    "ax[1,1].set_title('weather vs tip')\n",
    "ax[2,0].plot(Borough_grouped_df.Borough.values,Borough_grouped_df.tip_amount.values, color='r', linestyle='--')\n",
    "ax[2,0].set_title('Borough vs tip')\n",
    "ax[2,1].plot(Ratecode_grouped_df.RatecodeID.values,Ratecode_grouped_df.tip_amount.values, color='r', linestyle='--')\n",
    "ax[2,1].set_title('rate code vs tip')\n",
    "plt.show()"
   ]
  },
  {
   "cell_type": "markdown",
   "metadata": {},
   "source": [
    "We can see that these features have tremendous impact on tipping behavious. \n",
    "For example, At high speeds, tipping increases significantly.\n",
    "<br>Tipping is the highest in the early morning and evening every day. In addition, during the morning rush hour, perhaps passengers are stuck in traffic jams, and tips have dropped significantly.\n",
    "<br>A fun fact is that people pay more tips when it is fog."
   ]
  },
  {
   "cell_type": "markdown",
   "metadata": {},
   "source": [
    "## Feature description"
   ]
  },
  {
   "cell_type": "markdown",
   "metadata": {},
   "source": [
    "<br>Trip distance: The elapsed trip distance in miles reported by the taximeter.\n",
    "<br>Trip duration: The time difference between pick-up time and drop-off time.\n",
    "<br>Fare amount: The time-and-distance fare calculated by the meter.\n",
    "<br>Tolls amount: Total amount of all tolls paid in trip.\n",
    "<br>Total amount: The total amount charged to passengers. Does not include cash tips.\n",
    "<br>Passenger count: The number of passengers in the vehicle.\n",
    "<br>Pick-up hour: The hour when the meter was engaged.\n",
    "<br>Drop-off hour:  The hour when the meter was disengaged.\n",
    "<br>Day of week: The day of week when the meter was engaged.\n",
    "<br>icon: The weather condition grouped by hours.\n",
    "<br>Borough: The five Boroughs of New York City.\n",
    "<br>Tip rate: Tip amount divided by total fare.\n",
    "<br>Tip amount: Tip amount. This field is automatically populated for credit card, so I have deleted all data when payment type is not “credit card”."
   ]
  },
  {
   "cell_type": "code",
   "execution_count": 237,
   "metadata": {
    "scrolled": true
   },
   "outputs": [
    {
     "data": {
      "text/plain": [
       "<AxesSubplot:>"
      ]
     },
     "execution_count": 237,
     "metadata": {},
     "output_type": "execute_result"
    },
    {
     "data": {
      "image/png": "[encoded data removed]",
      "text/plain": [
       "<Figure size 720x432 with 2 Axes>"
      ]
     },
     "metadata": {},
     "output_type": "display_data"
    }
   ],
   "source": [
    "# Create a heatmap\n",
    "sns.set(rc = {'figure.figsize':(10,6)})\n",
    "sns.heatmap(df_taxi.corr(), square=True, annot=True, \n",
    "            annot_kws={'size':9,'weight':'bold', 'color':'blue'}, cmap='RdYlGn')"
   ]
  },
  {
   "cell_type": "markdown",
   "metadata": {},
   "source": [
    "We can feagure out squares in hard red does not have a strong linear relationship with tip amount!\n",
    "\n",
    "Below, we will delete those comluns, then we will build a linear regression model."
   ]
  },
  {
   "cell_type": "markdown",
   "metadata": {},
   "source": [
    "## Model Building"
   ]
  },
  {
   "cell_type": "markdown",
   "metadata": {},
   "source": [
    "### Linear Regression to predict tip amount"
   ]
  },
  {
   "cell_type": "code",
   "execution_count": 304,
   "metadata": {},
   "outputs": [],
   "source": [
    "reg_columns = ['trip_distance','fare_amount','total_amount','tip_amount']\n",
    "df_taxi_reg = df_taxi[reg_columns]"
   ]
  },
  {
   "cell_type": "code",
   "execution_count": 306,
   "metadata": {},
   "outputs": [],
   "source": [
    "dummies = ['RatecodeID','speed_level','icon','Borough','dayOfWeek','date_hour']\n",
    "df_dummies = pd.get_dummies(df_taxi[dummies],drop_first=True)"
   ]
  },
  {
   "cell_type": "code",
   "execution_count": 307,
   "metadata": {
    "scrolled": true
   },
   "outputs": [
    {
     "data": {
      "text/html": [
       "<div>\n",
       "<style scoped>\n",
       "    .dataframe tbody tr th:only-of-type {\n",
       "        vertical-align: middle;\n",
       "    }\n",
       "\n",
       "    .dataframe tbody tr th {\n",
       "        vertical-align: top;\n",
       "    }\n",
       "\n",
       "    .dataframe thead th {\n",
       "        text-align: right;\n",
       "    }\n",
       "</style>\n",
       "<table border=\"1\" class=\"dataframe\">\n",
       "  <thead>\n",
       "    <tr style=\"text-align: right;\">\n",
       "      <th></th>\n",
       "      <th>trip_distance</th>\n",
       "      <th>fare_amount</th>\n",
       "      <th>total_amount</th>\n",
       "      <th>tip_amount</th>\n",
       "    </tr>\n",
       "  </thead>\n",
       "  <tbody>\n",
       "    <tr>\n",
       "      <th>count</th>\n",
       "      <td>1994273.00</td>\n",
       "      <td>1994273.00</td>\n",
       "      <td>1994273.00</td>\n",
       "      <td>1994273.00</td>\n",
       "    </tr>\n",
       "    <tr>\n",
       "      <th>mean</th>\n",
       "      <td>2.11</td>\n",
       "      <td>10.17</td>\n",
       "      <td>16.36</td>\n",
       "      <td>2.58</td>\n",
       "    </tr>\n",
       "    <tr>\n",
       "      <th>std</th>\n",
       "      <td>1.53</td>\n",
       "      <td>4.90</td>\n",
       "      <td>5.84</td>\n",
       "      <td>1.13</td>\n",
       "    </tr>\n",
       "    <tr>\n",
       "      <th>min</th>\n",
       "      <td>0.01</td>\n",
       "      <td>1.50</td>\n",
       "      <td>3.88</td>\n",
       "      <td>0.05</td>\n",
       "    </tr>\n",
       "    <tr>\n",
       "      <th>25%</th>\n",
       "      <td>1.07</td>\n",
       "      <td>6.50</td>\n",
       "      <td>12.25</td>\n",
       "      <td>1.86</td>\n",
       "    </tr>\n",
       "    <tr>\n",
       "      <th>50%</th>\n",
       "      <td>1.68</td>\n",
       "      <td>9.00</td>\n",
       "      <td>14.80</td>\n",
       "      <td>2.36</td>\n",
       "    </tr>\n",
       "    <tr>\n",
       "      <th>75%</th>\n",
       "      <td>2.64</td>\n",
       "      <td>12.50</td>\n",
       "      <td>18.96</td>\n",
       "      <td>3.16</td>\n",
       "    </tr>\n",
       "    <tr>\n",
       "      <th>max</th>\n",
       "      <td>14.80</td>\n",
       "      <td>33.00</td>\n",
       "      <td>40.02</td>\n",
       "      <td>6.59</td>\n",
       "    </tr>\n",
       "  </tbody>\n",
       "</table>\n",
       "</div>"
      ],
      "text/plain": [
       "      trip_distance fare_amount total_amount  tip_amount\n",
       "count    1994273.00  1994273.00   1994273.00  1994273.00\n",
       "mean           2.11       10.17        16.36        2.58\n",
       "std            1.53        4.90         5.84        1.13\n",
       "min            0.01        1.50         3.88        0.05\n",
       "25%            1.07        6.50        12.25        1.86\n",
       "50%            1.68        9.00        14.80        2.36\n",
       "75%            2.64       12.50        18.96        3.16\n",
       "max           14.80       33.00        40.02        6.59"
      ]
     },
     "execution_count": 307,
     "metadata": {},
     "output_type": "execute_result"
    }
   ],
   "source": [
    "df_taxi_reg.describe().apply(lambda x: x.apply('{0:.2f}'.format))"
   ]
  },
  {
   "cell_type": "code",
   "execution_count": 309,
   "metadata": {},
   "outputs": [],
   "source": [
    "df_taxi_reg = pd.concat([df_taxi_reg, df_dummies], axis=1)"
   ]
  },
  {
   "cell_type": "code",
   "execution_count": 334,
   "metadata": {},
   "outputs": [],
   "source": [
    "X = df_taxi_reg.drop('tip_amount', axis = 1)\n",
    "y = df_taxi_reg['tip_amount']\n",
    "X_train, X_test, y_train, y_test = train_test_split(X, y, test_size = 0.33, random_state = 1111)"
   ]
  },
  {
   "cell_type": "code",
   "execution_count": 335,
   "metadata": {},
   "outputs": [
    {
     "name": "stdout",
     "output_type": "stream",
     "text": [
      "(1336162, 50)\n",
      "(1336162,)\n"
     ]
    }
   ],
   "source": [
    "#Check if the X, y shape matches\n",
    "print(X_train.shape)\n",
    "print(y_train.shape)"
   ]
  },
  {
   "cell_type": "code",
   "execution_count": 336,
   "metadata": {
    "scrolled": true
   },
   "outputs": [
    {
     "name": "stdout",
     "output_type": "stream",
     "text": [
      "trian R^2: 0.8483562336372562\n",
      "test R^2: 0.8496861080601659\n",
      "Root Mean Squared Error: 0.43939749745103795\n"
     ]
    }
   ],
   "source": [
    "# Create the regressor: l\n",
    "l = LinearRegression()\n",
    "\n",
    "# Fit the regressor to the training data\n",
    "l.fit(X_train,y_train)\n",
    "\n",
    "# Predict on the test data: y_pred\n",
    "y_pred = l.predict(X_test)\n",
    "\n",
    "# Compute and print R^2 and RMSE for testing set\n",
    "print(\"trian R^2: {}\".format(l.score(X_train, y_train)))\n",
    "print(\"test R^2: {}\".format(l.score(X_test, y_test)))\n",
    "rmse = np.sqrt(mean_squared_error(y_test, y_pred))\n",
    "print(\"Root Mean Squared Error: {}\".format(rmse))"
   ]
  },
  {
   "cell_type": "markdown",
   "metadata": {},
   "source": [
    "The result looks good and by comparision I see no overfitting."
   ]
  },
  {
   "cell_type": "code",
   "execution_count": 339,
   "metadata": {
    "scrolled": true
   },
   "outputs": [
    {
     "data": {
      "text/plain": [
       "<matplotlib.legend.Legend at 0x7fbd3d36df10>"
      ]
     },
     "execution_count": 339,
     "metadata": {},
     "output_type": "execute_result"
    },
    {
     "data": {
      "image/png": "[encoded data removed]",
      "text/plain": [
       "<Figure size 720x432 with 1 Axes>"
      ]
     },
     "metadata": {},
     "output_type": "display_data"
    }
   ],
   "source": [
    "fig, ax = plt.subplots()\n",
    "ax.scatter(X_test.iloc[:,0], y_test)\n",
    "ax.scatter(X_test.iloc[:,0], y_pred, color = \"red\")\n",
    "ax.legend([\"observed\", \"predicted\"])"
   ]
  },
  {
   "cell_type": "markdown",
   "metadata": {},
   "source": [
    "### Random Forest Model to Predict Tip Amount"
   ]
  },
  {
   "cell_type": "code",
   "execution_count": 363,
   "metadata": {},
   "outputs": [],
   "source": [
    "df_taxi_forest = df_taxi_reg.iloc[0:10000,:] # Use 10000 rows of data due to my old laptop's ability"
   ]
  },
  {
   "cell_type": "code",
   "execution_count": 364,
   "metadata": {},
   "outputs": [],
   "source": [
    "X = df_taxi_forest.drop('tip_amount', axis = 1)\n",
    "y = df_taxi_forest['tip_amount']\n",
    "X_train, X_test, y_train, y_test = train_test_split(X, y, test_size = 0.33)"
   ]
  },
  {
   "cell_type": "code",
   "execution_count": 365,
   "metadata": {},
   "outputs": [
    {
     "name": "stdout",
     "output_type": "stream",
     "text": [
      "0.9762463350831215\n",
      "0.8098198236759222\n"
     ]
    }
   ],
   "source": [
    "# from sklearn.ensemble import RandomForestRegressor\n",
    "\n",
    "# Create the random forest model and fit to the training data\n",
    "rfr = RandomForestRegressor(n_estimators=200)\n",
    "rfr.fit(X_train, y_train)\n",
    "\n",
    "# Look at the R^2 scores on train and test\n",
    "print(rfr.score(X_train, y_train))\n",
    "print(rfr.score(X_test, y_test))"
   ]
  },
  {
   "cell_type": "markdown",
   "metadata": {},
   "source": [
    "test score is apparently smaller than the train score. It looks like the model has a problem by watching the result."
   ]
  },
  {
   "cell_type": "code",
   "execution_count": 380,
   "metadata": {},
   "outputs": [
    {
     "name": "stdout",
     "output_type": "stream",
     "text": [
      "0.8086386747676888 {'random_state': 42, 'n_estimators': 200, 'max_features': 50, 'max_depth': 35}\n"
     ]
    }
   ],
   "source": [
    "from sklearn.model_selection import ParameterGrid\n",
    "\n",
    "# Create a dictionary of hyperparameters to search\n",
    "grid = {'n_estimators': [200], 'max_depth': [35], 'max_features': [4, 50], 'random_state': [42]}\n",
    "test_scores = []\n",
    "\n",
    "# Loop through the parameter grid, set the hyperparameters, and save the scores\n",
    "for g in ParameterGrid(grid):\n",
    "    rfr.set_params(**g)  # ** is \"unpacking\" the dictionary\n",
    "    rfr.fit(X_train, y_train)\n",
    "    test_scores.append(rfr.score(X_test, y_test))\n",
    "\n",
    "# Find best hyperparameters from the test score and print\n",
    "best_idx = np.argmax(test_scores)\n",
    "print(test_scores[best_idx], ParameterGrid(grid)[best_idx])"
   ]
  },
  {
   "cell_type": "code",
   "execution_count": 381,
   "metadata": {
    "scrolled": true
   },
   "outputs": [
    {
     "data": {
      "image/png": "[encoded data removed]",
      "text/plain": [
       "<Figure size 720x432 with 1 Axes>"
      ]
     },
     "metadata": {},
     "output_type": "display_data"
    }
   ],
   "source": [
    "# Use the best hyperparameters from before to fit a random forest model\n",
    "rfr = RandomForestRegressor(n_estimators=200, max_depth=35, max_features=50, random_state=42)\n",
    "rfr.fit(X_train, y_train)\n",
    "\n",
    "# Make predictions with our model\n",
    "train_predictions = rfr.predict(X_train)\n",
    "test_predictions = rfr.predict(X_test)\n",
    "\n",
    "# Create a scatter plot with train and test actual vs predictions\n",
    "plt.scatter(y_train, train_predictions, label='train')\n",
    "plt.scatter(y_test, test_predictions, label='test')\n",
    "plt.legend()\n",
    "plt.show()"
   ]
  },
  {
   "cell_type": "code",
   "execution_count": 383,
   "metadata": {},
   "outputs": [
    {
     "data": {
      "image/png": "[encoded data removed]",
      "text/plain": [
       "<Figure size 720x432 with 1 Axes>"
      ]
     },
     "metadata": {},
     "output_type": "display_data"
    }
   ],
   "source": [
    "# Get feature importances from our random forest model\n",
    "importances = rfr.feature_importances_\n",
    "\n",
    "# Get the index of importances from greatest importance to least\n",
    "sorted_index = np.argsort(importances)[::-1]\n",
    "x = range(len(importances))\n",
    "\n",
    "# Create tick labels \n",
    "labels = np.array(df_taxi_forest.columns)[sorted_index]\n",
    "plt.bar(x, importances[sorted_index], tick_label=labels)\n",
    "\n",
    "# Rotate tick labels to vertical\n",
    "plt.xticks(rotation=90)\n",
    "plt.show()"
   ]
  },
  {
   "cell_type": "markdown",
   "metadata": {},
   "source": [
    "The result is extremely skewed. It looks an overfitting model, since so many features are less important.\n",
    "\n",
    "However, as shown on Data visulization part, I truly believe those features are correlatitve to tip.\n",
    "\n",
    "Our purpose is to predict how those factors impact on tip, so maybe we do not need to predict an accurate <br>tip amount. Next, I will use classification methods to predict tips."
   ]
  },
  {
   "cell_type": "markdown",
   "metadata": {},
   "source": [
    "## Model Selection For Classification to Predict tip Level"
   ]
  },
  {
   "cell_type": "code",
   "execution_count": 403,
   "metadata": {
    "scrolled": true
   },
   "outputs": [],
   "source": [
    "# Multinomial Naive Bayes Classifier  \n",
    "def naive_bayes_classifier(train_x, train_y):  \n",
    "    from sklearn.naive_bayes import MultinomialNB  \n",
    "    model = MultinomialNB(alpha=0.01)  \n",
    "    model.fit(train_x, train_y)  \n",
    "    return model  \n",
    "    \n",
    "# KNN Classifier  \n",
    "def knn_classifier(train_x, train_y):  \n",
    "    from sklearn.neighbors import KNeighborsClassifier  \n",
    "    model = KNeighborsClassifier()  \n",
    "    model.fit(train_x, train_y)  \n",
    "    return model  \n",
    "\n",
    "# Random Forest Classifier  \n",
    "def random_forest_classifier(train_x, train_y):  \n",
    "    from sklearn.ensemble import RandomForestClassifier  \n",
    "    model = RandomForestClassifier(n_estimators=200)  \n",
    "    model.fit(train_x, train_y)  \n",
    "    return model  \n",
    "   \n",
    "# Desision Tree Classifier  \n",
    "def decision_tree_classifier(train_x, train_y):  \n",
    "    from sklearn import tree  \n",
    "    model = tree.DecisionTreeClassifier()  \n",
    "    model.fit(train_x, train_y)  \n",
    "    return model  \n",
    "   \n",
    "# GBDT(Gradient Boosting Decision Tree) Classifier  \n",
    "def gradient_boosting_classifier(train_x, train_y):  \n",
    "    from sklearn.ensemble import GradientBoostingClassifier  \n",
    "    model = GradientBoostingClassifier(n_estimators=200)  \n",
    "    model.fit(train_x, train_y)  \n",
    "    return model  \n",
    "   \n",
    "# SVM Classifier  \n",
    "def svm_classifier(train_x, train_y):  \n",
    "    from sklearn.svm import SVC  \n",
    "    model = SVC(kernel='rbf', probability=True)  \n",
    "    model.fit(train_x, train_y)  \n",
    "    return model   "
   ]
  },
  {
   "cell_type": "code",
   "execution_count": 405,
   "metadata": {},
   "outputs": [],
   "source": [
    "#Reset training and testing data set\n",
    "class_columns = ['trip_distance','fare_amount','total_amount','tip_level']\n",
    "dummies = ['RatecodeID','speed_level','icon','Borough','dayOfWeek','date_hour']\n",
    "df_dummies = pd.get_dummies(df_taxi[dummies],drop_first=True)\n",
    "data = pd.concat([df_taxi[class_columns], df_dummies], axis=1)\n",
    "data = data.iloc[0:5000,:]\n",
    "X = data.drop('tip_level', axis = 1)\n",
    "y = data['tip_level']\n",
    "X_train, X_test, y_train, y_test = train_test_split(X, y, test_size = 0.33)"
   ]
  },
  {
   "cell_type": "code",
   "execution_count": 408,
   "metadata": {},
   "outputs": [
    {
     "name": "stdout",
     "output_type": "stream",
     "text": [
      "reading training and testing data...\n",
      "******************* NB ********************\n",
      "training took 0.101620s!\n",
      "precision: 54.30%, recall: 33.75%\n",
      "accuracy: 58.55%\n",
      "******************* KNN ********************\n",
      "training took 0.017278s!\n",
      "precision: 67.00%, recall: 59.28%\n",
      "accuracy: 70.06%\n",
      "******************* RF ********************\n",
      "training took 1.465466s!\n",
      "precision: 60.72%, recall: 50.69%\n",
      "accuracy: 65.88%\n",
      "******************* DT ********************\n",
      "training took 0.035280s!\n",
      "precision: 72.75%, recall: 72.94%\n",
      "accuracy: 76.30%\n",
      "******************* SVM ********************\n",
      "training took 5.236227s!\n",
      "precision: 58.61%, recall: 33.33%\n",
      "accuracy: 58.61%\n",
      "******************* GBDT ********************\n",
      "training took 3.619377s!\n",
      "precision: 81.22%, recall: 68.24%\n",
      "accuracy: 79.39%\n"
     ]
    }
   ],
   "source": [
    "#Impletment the models\n",
    "def read_data(data):  \n",
    "    train = X\n",
    "    test = y\n",
    "    train_y = y_train\n",
    "    train_x = X_train\n",
    "    test_y = y_test\n",
    "    test_x = X_test\n",
    "    return train_x, train_y, test_x, test_y\n",
    "         \n",
    "test_classifiers = ['NB', 'KNN', 'RF', 'DT', 'SVM', 'GBDT']  \n",
    "classifiers = {'NB':naive_bayes_classifier,   \n",
    "              'KNN':knn_classifier,  \n",
    "               'RF':random_forest_classifier,  \n",
    "               'DT':decision_tree_classifier,  \n",
    "              'SVM':svm_classifier,  \n",
    "             'GBDT':gradient_boosting_classifier  \n",
    "}  \n",
    "\n",
    "print('reading training and testing data...')  \n",
    "train_x, train_y, test_x, test_y = read_data(data)  \n",
    "\n",
    "for classifier in test_classifiers:  \n",
    "    print('******************* %s ********************' % classifier)  \n",
    "    start_time = time.time()  \n",
    "    model = classifiers[classifier](train_x, train_y)  \n",
    "    print('training took %fs!' % (time.time() - start_time)) \n",
    "    predict = model.predict(test_x)   \n",
    "    precision = metrics.precision_score(test_y, predict,average='macro',labels=np.unique(predict))  \n",
    "    recall = metrics.recall_score(test_y, predict,average='macro')  \n",
    "    print('precision: %.2f%%, recall: %.2f%%' % (100 * precision, 100 * recall))  \n",
    "    accuracy = metrics.accuracy_score(test_y, predict)  \n",
    "    print('accuracy: %.2f%%' % (100 * accuracy))"
   ]
  },
  {
   "cell_type": "markdown",
   "metadata": {},
   "source": [
    "Decision Tree Model and Gradient Boosting Decision Tree give us a good result."
   ]
  },
  {
   "cell_type": "markdown",
   "metadata": {},
   "source": [
    "## Conclusion"
   ]
  },
  {
   "cell_type": "markdown",
   "metadata": {},
   "source": [
    "Tipping is a subjective behavior of customers. In theory, customers will only give better tips when they think they have received better service. Conversely, a bad consumer experience will get less tips. In the NYC yellow cab dataset, we can clearly observe that the biggest influence on tipping is the total cost. This goes without saying, as tips are always prorated based on the total cost. However, we must understand that the driving location, date hour, day of week, weather factors, and driving speed will all affect the passenger's ride experience, and ultimately cause the tip to fluctuate."
   ]
  },
  {
   "cell_type": "markdown",
   "metadata": {},
   "source": [
    "According to the summary of information, it can be judged that in New York City, in clear days, you will get better tips during non-morning peak hours. Based on these findings, taxi drivers can get better tips by avoiding traffic jams as much as possible. Hopefully these findings will be of some help to taxi drivers in planning routes."
   ]
  },
  {
   "cell_type": "markdown",
   "metadata": {},
   "source": [
    "In addition, in the process of creating the model, I found that it is difficult for our analysis to be perfect. This may be because the data features are not rich enough, and tipping is a subjective factor, which is difficult to analyze perfectly. If we could get more specific NYC information, maybe a better model could be created to predict tipping."
   ]
  }
 ],
 "metadata": {
  "kernelspec": {
   "display_name": "Python 3",
   "language": "python",
   "name": "python3"
  },
  "language_info": {
   "codemirror_mode": {
    "name": "ipython",
    "version": 3
   },
   "file_extension": ".py",
   "mimetype": "text/x-python",
   "name": "python",
   "nbconvert_exporter": "python",
   "pygments_lexer": "ipython3",
   "version": "3.8.5"
  }
 },
 "nbformat": 4,
 "nbformat_minor": 4
}
